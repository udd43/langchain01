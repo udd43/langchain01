{
 "cells": [
  {
   "cell_type": "markdown",
   "id": "aea2f577",
   "metadata": {},
   "source": [
    "### 문제 2단계 체인 만들기 - 영화 추천 시스템 \n",
    "문제 설명\n",
    "사용자가 좋아하는 장르를 입력하면, 영화를 추천하고 그 영화의 정보(감독, 줄거리, 등장인물)들을  알려주는 2단계 체인을 구현해보세요.\n",
    "요구사항\n",
    "1단계 체인: 장르를 입력받아 영화 1편 추천\n",
    "2단계 체인: 추천받은 영화의 3줄 줄거리 요약 제공\n",
    "ChatPromptTemplate 사용 \n",
    ": “system”  과 “human” 메시지를 지정합니다.\n",
    "두 체인을 LCEL로 연결\n",
    "각 단계의 결과를 모두 출력하여 과정 확인\n",
    "구현 조건\n",
    "입력: 영화 장르 (예: \"액션\", \"로맨스\", \"공포\")\n",
    "1단계 출력: 추천 영화 제목과 간단한 설명\n",
    "2단계 출력: 영화 줄거리 3줄 요약\n"
   ]
  },
  {
   "cell_type": "code",
   "execution_count": null,
   "id": "460719f3",
   "metadata": {},
   "outputs": [],
   "source": [
    "import os\n",
    "from dotenv import load_dotenv\n",
    "from langchain_core.prompts import ChatPromptTemplate\n",
    "from langchain_openai import ChatOpenAI\n",
    "from langchain_core.output_parsers import StrOutputParser\n",
    "from langchain_core.runnables import RunnablePassthrough\n",
    "\n",
    "\n",
    "load_dotenv()\n",
    "OPENAI_API_KEY = os.getenv(\"OPENAI_API_KEY\")\n",
    "print(OPENAI_API_KEY)"
   ]
  },
  {
   "cell_type": "code",
   "execution_count": 11,
   "id": "565905ff",
   "metadata": {},
   "outputs": [
    {
     "name": "stdout",
     "output_type": "stream",
     "text": [
      "영화 '헤리티지'의 줄거리 3줄 요약은 다음과 같습니다.\n",
      "\n",
      "1.  한 가족이 조상들의 유산과 오래된 저택을 물려받습니다.\n",
      "2.  이 저택에서 기이한 사건들이 벌어지기 시작하고, 가족들은 오래된 저택의 어두운 과거를 탐구하게 됩니다.\n",
      "3.  이 과정에서 가족의 비밀과 오래된 저택의 비밀들이 드러나고, 가족들은 공포에 직면하게 됩니다.\n"
     ]
    }
   ],
   "source": [
    "from langchain_core.prompts import ChatPromptTemplate\n",
    "from langchain_openai import ChatOpenAI\n",
    "from langchain_core.output_parsers import StrOutputParser\n",
    "from langchain_core.runnables import RunnableLambda\n",
    "\n",
    "\n",
    "prompt = ChatPromptTemplate.from_messages(\n",
    "    [ (\"system\", \"당신은 그냥 사람이야.\") , \n",
    "     (\"human\", \"영화 하나만 추천해줘\") ]\n",
    ")\n",
    "\n",
    "# Step 1: 사용자가 입력한 재료에 따른 요리 추천\n",
    "prompt1 = ChatPromptTemplate.from_template(\"{genre} 추천 영화 제목 1개와 그 영화에 대한 간단한 설명\")\n",
    "\n",
    "# Step 2: 추천된 요리의 재료와 레시피 설명명\n",
    "prompt2 = ChatPromptTemplate.from_template(\"{storyline}  영화 줄거리 3줄로 요약\")\n",
    "\n",
    "# OpenAI 모델 사용\n",
    "llm = ChatOpenAI(\n",
    "    #api_key=OPENAI_API_KEY,\n",
    "    base_url=\"https://api.groq.com/openai/v1\",  # Groq API 엔드포인트\n",
    "    model=\"meta-llama/llama-4-scout-17b-16e-instruct\",\n",
    "    temperature=0.7\n",
    ")\n",
    "\n",
    "parser = StrOutputParser()\n",
    "\n",
    "# 장르\n",
    "genre_input = \"공포\"\n",
    "\n",
    "full_chain = (\n",
    "    prompt1\n",
    "    | llm\n",
    "    | parser\n",
    "    # 1단계 결과(movie_info)를 {\"storyline\": movie_info} 형태로 래핑\n",
    "    | RunnableLambda(lambda movie_info: {\"storyline\": movie_info})\n",
    "    | prompt2\n",
    "    | llm\n",
    "    | parser\n",
    ")\n",
    "\n",
    "\n",
    "# 한 번에 실행하기\n",
    "result = full_chain.invoke({\"genre\": \"공포\"})\n",
    "print(result)"
   ]
  }
 ],
 "metadata": {
  "kernelspec": {
   "display_name": "langchain-basic-kGdHTiMZ-py3.12",
   "language": "python",
   "name": "python3"
  },
  "language_info": {
   "codemirror_mode": {
    "name": "ipython",
    "version": 3
   },
   "file_extension": ".py",
   "mimetype": "text/x-python",
   "name": "python",
   "nbconvert_exporter": "python",
   "pygments_lexer": "ipython3",
   "version": "3.12.7"
  }
 },
 "nbformat": 4,
 "nbformat_minor": 5
}
