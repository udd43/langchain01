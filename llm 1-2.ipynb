{
 "cells": [
  {
   "cell_type": "markdown",
   "id": "aea2f577",
   "metadata": {},
   "source": [
    "### 문제 2단계 체인 만들기 - 영화 추천 시스템 \n",
    "문제 설명\n",
    "사용자가 좋아하는 장르를 입력하면, 영화를 추천하고 그 영화의 정보(감독, 줄거리, 등장인물)들을  알려주는 2단계 체인을 구현해보세요.\n",
    "요구사항\n",
    "1단계 체인: 장르를 입력받아 영화 1편 추천\n",
    "2단계 체인: 추천받은 영화의 3줄 줄거리 요약 제공\n",
    "ChatPromptTemplate 사용 \n",
    ": “system”  과 “human” 메시지를 지정합니다.\n",
    "두 체인을 LCEL로 연결\n",
    "각 단계의 결과를 모두 출력하여 과정 확인\n",
    "구현 조건\n",
    "입력: 영화 장르 (예: \"액션\", \"로맨스\", \"공포\")\n",
    "1단계 출력: 추천 영화 제목과 간단한 설명\n",
    "2단계 출력: 영화 줄거리 3줄 요약\n"
   ]
  },
  {
   "cell_type": "code",
   "execution_count": null,
   "id": "460719f3",
   "metadata": {},
   "outputs": [],
   "source": [
    "import os\n",
    "from dotenv import load_dotenv\n",
    "from langchain_core.prompts import ChatPromptTemplate\n",
    "from langchain_openai import ChatOpenAI\n",
    "from langchain_core.output_parsers import StrOutputParser\n",
    "from langchain_core.runnables import RunnablePassthrough\n",
    "\n",
    "\n",
    "load_dotenv()\n",
    "OPENAI_API_KEY = os.getenv(\"OPENAI_API_KEY\")\n",
    "print(OPENAI_API_KEY)"
   ]
  },
  {
   "cell_type": "code",
   "execution_count": 13,
   "id": "565905ff",
   "metadata": {},
   "outputs": [
    {
     "name": "stdout",
     "output_type": "stream",
     "text": [
      "추천 영화: **영화:** 헤리티지 (2013)\n",
      "\n",
      "**설명:** 가족의 오랜 전통을 계승하기 위해 조상들의 묘지에 방문한 한 가족이 겪는 기이한 현상들을 그린 영화입니다.\n",
      "\n",
      "줄거리 요약:\n",
      " 영화 '헤리티지'의 줄거리입니다.\n",
      "\n",
      "엘리자베스는 가족의 오랜 전통을 계승하기 위해 조상들의 묘지에 방문합니다. \n",
      "\n",
      "그런데 그곳에서 기이한 현상들이 일어나고, 딸과 아들은 이상한 체험을 합니다.\n",
      "\n",
      "가족은 이 기이한 현상들이 무엇인지 알 수 없어 두려움에 떨게 됩니다.\n"
     ]
    }
   ],
   "source": [
    "from langchain_core.prompts import ChatPromptTemplate\n",
    "from langchain_openai import ChatOpenAI\n",
    "from langchain_core.output_parsers import StrOutputParser\n",
    "\n",
    "prompt = ChatPromptTemplate.from_messages(\n",
    "    [ (\"system\", \"당신은 그냥 사람이야.\") , \n",
    "     (\"human\", \"영화 하나만 추천해줘\") ]\n",
    ")\n",
    "\n",
    "# Step 1: 사용자가 입력한 재료에 따른 요리 추천\n",
    "prompt1 = ChatPromptTemplate.from_template(\"{genre} 추천 영화 제목 1개와 그 영화에 대한 간단한 설명\")\n",
    "\n",
    "# Step 2: 추천된 요리의 재료와 레시피 설명명\n",
    "prompt2 = ChatPromptTemplate.from_template(\"{storyline}  영화 줄거리 3줄로 요약\")\n",
    "\n",
    "# OpenAI 모델 사용\n",
    "llm = ChatOpenAI(\n",
    "    #api_key=OPENAI_API_KEY,\n",
    "    base_url=\"https://api.groq.com/openai/v1\",  # Groq API 엔드포인트\n",
    "    model=\"meta-llama/llama-4-scout-17b-16e-instruct\",\n",
    "    temperature=0.7\n",
    ")\n",
    "\n",
    "parser = StrOutputParser()\n",
    "\n",
    "# 장르\n",
    "genre_input = \"공포\"\n",
    "\n",
    "try:\n",
    "    # Step 1 실행\n",
    "    chain1 = prompt1 | llm | parser\n",
    "    movie_info = chain1.invoke({\"genre\": genre_input})\n",
    "    print(\"추천 영화:\", movie_info)\n",
    "    # Step 2 실행\n",
    "    chain2 = prompt2 | llm | parser\n",
    "    summary = chain2.invoke({\"storyline\": movie_info})\n",
    "    print(\"\\n줄거리 요약:\\n\", summary)\n",
    "except Exception as e:\n",
    "    print(f\"오류 발생: {e}\")"
   ]
  }
 ],
 "metadata": {
  "kernelspec": {
   "display_name": "langchain-basic-kGdHTiMZ-py3.12",
   "language": "python",
   "name": "python3"
  },
  "language_info": {
   "codemirror_mode": {
    "name": "ipython",
    "version": 3
   },
   "file_extension": ".py",
   "mimetype": "text/x-python",
   "name": "python",
   "nbconvert_exporter": "python",
   "pygments_lexer": "ipython3",
   "version": "3.12.7"
  }
 },
 "nbformat": 4,
 "nbformat_minor": 5
}
