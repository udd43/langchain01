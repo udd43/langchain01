{
 "cells": [
  {
   "cell_type": "markdown",
   "id": "aea2f577",
   "metadata": {},
   "source": [
    "### 문제 설명\n",
    "*사용자가 재료를 입력하면 그 재료로 만들 수 있는 요리를 추천해주는 간단한 AI 요리사를 만들어보세요.\n",
    "\n",
    "*요구사항\n",
    "PromptTemplate을 사용하여 프롬프트 작성\n",
    "\n",
    "사용자가 입력한 재료를 받아서 요리 추천\n",
    "\n",
    "ChatOpenAI 모델 사용\n",
    "\n",
    "StrOutputParser로 결과를 문자열로 출력\n",
    "\n",
    "LCEL(|) 문법을 사용하여 체인 연결"
   ]
  },
  {
   "cell_type": "code",
   "execution_count": 19,
   "id": "460719f3",
   "metadata": {},
   "outputs": [
    {
     "name": "stdout",
     "output_type": "stream",
     "text": [
      "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\n"
     ]
    }
   ],
   "source": [
    "import os\n",
    "from dotenv import load_dotenv\n",
    "from langchain_core.prompts import ChatPromptTemplate\n",
    "from langchain_openai import ChatOpenAI\n",
    "from langchain_core.output_parsers import StrOutputParser\n",
    "from langchain_core.runnables import RunnablePassthrough\n",
    "\n",
    "\n",
    "load_dotenv()\n",
    "OPENAI_API_KEY = os.getenv(\"OPENAI_API_KEY\")\n",
    "print(OPENAI_API_KEY)"
   ]
  },
  {
   "cell_type": "code",
   "execution_count": 57,
   "id": "565905ff",
   "metadata": {},
   "outputs": [
    {
     "name": "stdout",
     "output_type": "stream",
     "text": [
      "추천 요리: 토마토, 양파, 치즈를 사용한 요리 이름: **토마토 치즈 구이**\n",
      "\n",
      "레시피 설명:\n",
      "\n",
      "1. **재료 준비**: 토마토, 양파, 치즈 (모짜렐라 치즈 또는 체다 치즈 등), 올리브 오일, 소금, 후추를 준비합니다.\n",
      "\n",
      "2. **양파와 토마토 준비**: 양파를 얇게 슬라이스하고, 토마토를 깨끗이 씻은 후 중간 크기로 썰어줍니다.\n",
      "\n",
      "3. **요리 과정**: 팬에 올리브 오일을 두르고, 양파를 넣고 볶습니다. 양파가 반 이상 익으면 토마토를 넣고 함께 볶아줍니다. 소금과 후추로 간을 합니다.\n",
      "\n",
      "4. **치즈 추가**: 볶아진 양파와 토마토 혼합물 위에 치즈를 얹습니다. \n",
      "\n",
      "5. **구이**: 팬을 중불에 놓고 치즈가 녹고 황금빛이 될 때까지 구워줍니다. \n",
      "\n",
      "6. **완성**: 토마토 치즈 구이가 완성되면, 그것을 따뜻한 밥과 함께 내거나, 빵과 함께 제공하여 즐길 수 있습니다.\n",
      "\n",
      "이 요리는 간단하지만 맛이 뛰어나고, 영양가도 높아서 인기 있는 가정식 중 하나입니다.\n"
     ]
    }
   ],
   "source": [
    "from langchain_core.prompts import ChatPromptTemplate\n",
    "from langchain_openai import ChatOpenAI\n",
    "from langchain_core.output_parsers import StrOutputParser\n",
    "\n",
    "prompt = ChatPromptTemplate.from_messages(\n",
    "    [ (\"system\", \"당신은 요리사야.\") , \n",
    "     (\"human\", \"{input}\") ]\n",
    ")\n",
    "\n",
    "# OpenAI 모델 사용\n",
    "llm = ChatOpenAI(\n",
    "    #api_key=OPENAI_API_KEY,\n",
    "    base_url=\"https://api.groq.com/openai/v1\",  # Groq API 엔드포인트\n",
    "    model=\"meta-llama/llama-4-scout-17b-16e-instruct\",\n",
    "    temperature=0.7\n",
    ")\n",
    "# Step 1: 사용자가 입력한 재료에 따른 요리 추천\n",
    "prompt1 = ChatPromptTemplate.from_template(\"{ingredient} 이재료를 사용한 요리이름 1개와 레시피 설명은 1. 2. 3. 이런식으로 설명해줘\")\n",
    "\n",
    "\n",
    "parser = StrOutputParser()\n",
    "\n",
    "# 사용자 입력 재료\n",
    "ingredient_input = \"토마토, 양파, 치즈\"\n",
    "\n",
    "# Step 1 실행: 요리 추천\n",
    "chain1 = prompt1 | llm | parser\n",
    "recipe_name = chain1.invoke({\"ingredient\": ingredient_input})\n",
    "print(\"추천 요리:\", recipe_name)\n"
   ]
  }
 ],
 "metadata": {
  "kernelspec": {
   "display_name": "langchain-basic-kGdHTiMZ-py3.12",
   "language": "python",
   "name": "python3"
  },
  "language_info": {
   "codemirror_mode": {
    "name": "ipython",
    "version": 3
   },
   "file_extension": ".py",
   "mimetype": "text/x-python",
   "name": "python",
   "nbconvert_exporter": "python",
   "pygments_lexer": "ipython3",
   "version": "3.12.7"
  }
 },
 "nbformat": 4,
 "nbformat_minor": 5
}
