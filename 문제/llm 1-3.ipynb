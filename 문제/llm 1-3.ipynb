{
 "cells": [
  {
   "cell_type": "markdown",
   "id": "aea2f577",
   "metadata": {},
   "source": [
    "### 문제 FewShotPromptTemplate과 시스템 메시지 활용 \n",
    "\n",
    "뉴스 키워드 추출기\n",
    "\n",
    "1) 문제 설명\n",
    "FewShotPromptTemplate을 사용하여 뉴스 기사에서 핵심 키워드 3개를 추출하는 시스템을 구현해보세요. 주어진 예시들을 참고하여 일관된 형식으로 키워드를 추출해야 합니다.\n",
    "\n",
    "2) 요구사항\n",
    "FewShotPromptTemplate 사용\n",
    "최소 3개의 예시(examples) 포함\n",
    "뉴스 텍스트에서 핵심 키워드 3개 추출\n",
    "일관된 출력 형식 유지\n",
    "다양한 분야의 뉴스로 테스트\n"
   ]
  },
  {
   "cell_type": "code",
   "execution_count": null,
   "id": "460719f3",
   "metadata": {},
   "outputs": [],
   "source": [
    "import os\n",
    "from dotenv import load_dotenv\n",
    "from langchain_core.prompts import ChatPromptTemplate\n",
    "from langchain_openai import ChatOpenAI\n",
    "from langchain_core.output_parsers import StrOutputParser\n",
    "from langchain_core.runnables import RunnablePassthrough\n",
    "\n",
    "\n",
    "load_dotenv()\n",
    "OPENAI_API_KEY = os.getenv(\"OPENAI_API_KEY\")\n",
    "print(OPENAI_API_KEY)"
   ]
  },
  {
   "cell_type": "code",
   "execution_count": 12,
   "id": "565905ff",
   "metadata": {},
   "outputs": [
    {
     "name": "stdout",
     "output_type": "stream",
     "text": [
      "📌 추출된 키워드: Here are the extracted keywords for each news article:\n",
      "\n",
      "1. 현대자동차, 전기차, 아이오닉7\n",
      "2. IOC, 올림픽, 브리즈번\n",
      "3. 네이버, 파파고, AI통번역\n",
      "4. 교육부, 학점제, 교육개혁\n",
      "5. SK하이닉스, 반도체, 투자 \n",
      "\n",
      "Let me know if you'd like me to help with anything else!\n"
     ]
    }
   ],
   "source": [
    "from langchain_core.prompts import FewShotChatMessagePromptTemplate, ChatPromptTemplate\n",
    "from langchain_openai import ChatOpenAI\n",
    "from langchain_core.output_parsers import StrOutputParser\n",
    "\n",
    "# 1. 예시 프롬프트\n",
    "example_prompt = ChatPromptTemplate.from_messages([\n",
    "    (\"human\", \"{news}\"),\n",
    "    (\"ai\", \"키워드: {keywords}\")\n",
    "])\n",
    "\n",
    "# 2. 예시 데이터 \n",
    "test_news = [\n",
    "    {\n",
    "        \"news\": \"현대자동차는 차세대 전기차 모델 '아이오닉 7'의 양산을 2026년부터 시작한다고 발표했다. 이로써 글로벌 전기차 시장 확대 경쟁에서 우위를 점하려는 전략으로 풀이된다.\",\n",
    "        \"keywords\": \"현대자동차, 전기차, 아이오닉7\"\n",
    "    },\n",
    "    {\n",
    "        \"news\": \"국제올림픽위원회(IOC)는 2032년 하계 올림픽 개최지로 호주 브리즈번을 공식 선정했다. 이번 결정으로 호주는 세 번째로 올림픽을 개최하는 국가가 된다.\",\n",
    "        \"keywords\": \"IOC, 올림픽, 브리즈번\"\n",
    "    },\n",
    "    {\n",
    "        \"news\": \"네이버는 AI 기반 통번역 서비스 '파파고'에 실시간 대화 번역 기능을 대폭 업그레이드했다. 다중 언어 회의에서도 자연스러운 통역이 가능해졌다고 설명했다.\",\n",
    "        \"keywords\": \"네이버, 파파고, AI통번역\"\n",
    "    },\n",
    "    {\n",
    "        \"news\": \"교육부는 2025년부터 고교 학점제를 전국적으로 전면 도입할 계획이라고 밝혔다. 학생들은 원하는 과목을 선택해 이수할 수 있게 돼 맞춤형 교육이 가능해질 전망이다.\",\n",
    "        \"keywords\": \"교육부, 학점제, 교육개혁\"\n",
    "    },\n",
    "    {\n",
    "        \"news\": \"SK하이닉스는 미국 유타주에 위치한 팹(Fab) 2공장에 30억 달러를 추가 투자하기로 결정했다. 메모리 반도체 생산량 확대를 위한 전략적 조치로 해석된다.\",\n",
    "        \"keywords\": \"SK하이닉스, 반도체투자, 미국공장\"\n",
    "    }\n",
    "]\n",
    "\n",
    "\n",
    "# 3. Few-shot 프롬프트 구성\n",
    "few_shot_prompt = FewShotChatMessagePromptTemplate(\n",
    "    example_prompt=example_prompt,\n",
    "    examples=test_news \n",
    "\n",
    ")\n",
    "\n",
    "# 4. 최종 프롬프트: 시스템 지시 + 예시 + 사용자 입력\n",
    "final_prompt = ChatPromptTemplate.from_messages([\n",
    "    (\"system\", \"당신은 뉴스 기사로부터 핵심 키워드 3개를 정확하고 간결하게 추출하는 전문가입니다.\"),\n",
    "    few_shot_prompt,\n",
    "    (\"human\", \"{input}\")\n",
    "])\n",
    "\n",
    "# 5. 모델 및 파서 설정\n",
    "llm = ChatOpenAI(\n",
    "    base_url=\"https://api.groq.com/openai/v1\",\n",
    "    model=\"meta-llama/llama-4-scout-17b-16e-instruct\",\n",
    "    temperature=0.3\n",
    ")\n",
    "parser = StrOutputParser()\n",
    "\n",
    "# 6. 체인 생성\n",
    "chain = final_prompt | llm | parser\n",
    "\n",
    "\n",
    "\n",
    "# 8. 실행\n",
    "keywords_output = chain.invoke({\"input\": test_news})\n",
    "print(\"📌 추출된 키워드:\", keywords_output)\n"
   ]
  }
 ],
 "metadata": {
  "kernelspec": {
   "display_name": "langchain-basic-kGdHTiMZ-py3.12",
   "language": "python",
   "name": "python3"
  },
  "language_info": {
   "codemirror_mode": {
    "name": "ipython",
    "version": 3
   },
   "file_extension": ".py",
   "mimetype": "text/x-python",
   "name": "python",
   "nbconvert_exporter": "python",
   "pygments_lexer": "ipython3",
   "version": "3.12.7"
  }
 },
 "nbformat": 4,
 "nbformat_minor": 5
}
